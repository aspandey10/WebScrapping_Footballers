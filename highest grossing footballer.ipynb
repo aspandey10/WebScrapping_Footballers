{
 "cells": [
  {
   "cell_type": "code",
   "execution_count": 48,
   "metadata": {},
   "outputs": [],
   "source": [
    "from bs4 import BeautifulSoup\n",
    "import requests"
   ]
  },
  {
   "cell_type": "code",
   "execution_count": 49,
   "metadata": {},
   "outputs": [],
   "source": [
    "url='https://en.wikipedia.org/wiki/Forbes_list_of_the_world%27s_highest-paid_athletes'"
   ]
  },
  {
   "cell_type": "code",
   "execution_count": 50,
   "metadata": {},
   "outputs": [],
   "source": [
    "source=requests.get(url)\n",
    "soup=BeautifulSoup(source.text,'html.parser')"
   ]
  },
  {
   "cell_type": "code",
   "execution_count": 51,
   "metadata": {},
   "outputs": [],
   "source": [
    "title=soup.find('table',class_='wikitable sortable').find_all('tr')"
   ]
  },
  {
   "cell_type": "code",
   "execution_count": 52,
   "metadata": {},
   "outputs": [
    {
     "name": "stdout",
     "output_type": "stream",
     "text": [
      "Rank\n",
      "\n",
      "Name\n",
      "\n",
      "Sport\n",
      "\n",
      "Country\n",
      "\n",
      "Total\n",
      "\n",
      "Salary/winnings\n",
      "\n",
      "Endorsements\n"
     ]
    }
   ],
   "source": [
    "titleheader=title[0].text.strip()\n",
    "print(titleheader)"
   ]
  },
  {
   "cell_type": "code",
   "execution_count": 53,
   "metadata": {},
   "outputs": [
    {
     "name": "stdout",
     "output_type": "stream",
     "text": [
      "['Rank', 'Name', 'Sport', 'Country', 'Total', 'Salary/winnings', 'Endorsements']\n"
     ]
    }
   ],
   "source": [
    "title_list=[]\n",
    "for x in titleheader.split():\n",
    "    title_list.append(x)\n",
    "print(title_list)"
   ]
  },
  {
   "cell_type": "code",
   "execution_count": 54,
   "metadata": {},
   "outputs": [],
   "source": [
    "import pandas as pd"
   ]
  },
  {
   "cell_type": "code",
   "execution_count": 55,
   "metadata": {},
   "outputs": [],
   "source": [
    "df=pd.DataFrame(columns=title_list)"
   ]
  },
  {
   "cell_type": "code",
   "execution_count": 56,
   "metadata": {},
   "outputs": [
    {
     "data": {
      "text/html": [
       "<div>\n",
       "<style scoped>\n",
       "    .dataframe tbody tr th:only-of-type {\n",
       "        vertical-align: middle;\n",
       "    }\n",
       "\n",
       "    .dataframe tbody tr th {\n",
       "        vertical-align: top;\n",
       "    }\n",
       "\n",
       "    .dataframe thead th {\n",
       "        text-align: right;\n",
       "    }\n",
       "</style>\n",
       "<table border=\"1\" class=\"dataframe\">\n",
       "  <thead>\n",
       "    <tr style=\"text-align: right;\">\n",
       "      <th></th>\n",
       "      <th>Rank</th>\n",
       "      <th>Name</th>\n",
       "      <th>Sport</th>\n",
       "      <th>Country</th>\n",
       "      <th>Total</th>\n",
       "      <th>Salary/winnings</th>\n",
       "      <th>Endorsements</th>\n",
       "    </tr>\n",
       "  </thead>\n",
       "  <tbody>\n",
       "  </tbody>\n",
       "</table>\n",
       "</div>"
      ],
      "text/plain": [
       "Empty DataFrame\n",
       "Columns: [Rank, Name, Sport, Country, Total, Salary/winnings, Endorsements]\n",
       "Index: []"
      ]
     },
     "execution_count": 56,
     "metadata": {},
     "output_type": "execute_result"
    }
   ],
   "source": [
    "df"
   ]
  },
  {
   "cell_type": "code",
   "execution_count": 64,
   "metadata": {},
   "outputs": [
    {
     "name": "stdout",
     "output_type": "stream",
     "text": [
      "[['1', 'Cristiano Ronaldo', 'Association football', 'Portugal', '$136 million', '$46 million', '$90 million'], ['2', 'Lionel Messi', 'Association football', 'Argentina', '$130 million', '$65 million', '$65 million'], ['3', 'Kylian Mbappé', 'Association football', 'France', '$120 million', '$100 million', '$20 million'], ['4', 'LeBron James', 'Basketball', 'United States', '$119.5 million', '$44.5 million', '$75 million'], ['5', 'Canelo Álvarez', 'Boxing', 'Mexico', '$110 million', '$100 million', '$10 million'], ['6', 'Dustin Johnson', 'Golf', 'United States', '$107 million', '$102 million', '$5 million'], ['7', 'Phil Mickelson', 'Golf', 'United States', '$106 million', '$104 million', '$2 million'], ['8', 'Stephen Curry', 'Basketball', 'United States', '$100.4 million', '$48.4 million', '$52 million'], ['9', 'Roger Federer', 'Tennis', 'Switzerland', '$95.1 million', '$0.1 million', '$95 million'], ['10', 'Kevin Durant', 'Basketball', 'United States', '$89.1 million', '$44.1 million', '$45 million']]\n"
     ]
    }
   ],
   "source": [
    "data=soup.find('table',class_='wikitable sortable').find_all('tr')\n",
    "player_info=[]\n",
    "for i in range(1,len(data)):\n",
    "    player_info2=[x.text.strip() for x in data[i].find_all('td')]\n",
    "    player_info.append(player_info2)\n",
    "print(player_info)"
   ]
  },
  {
   "cell_type": "code",
   "execution_count": 80,
   "metadata": {},
   "outputs": [
    {
     "data": {
      "text/html": [
       "<div>\n",
       "<style scoped>\n",
       "    .dataframe tbody tr th:only-of-type {\n",
       "        vertical-align: middle;\n",
       "    }\n",
       "\n",
       "    .dataframe tbody tr th {\n",
       "        vertical-align: top;\n",
       "    }\n",
       "\n",
       "    .dataframe thead th {\n",
       "        text-align: right;\n",
       "    }\n",
       "</style>\n",
       "<table border=\"1\" class=\"dataframe\">\n",
       "  <thead>\n",
       "    <tr style=\"text-align: right;\">\n",
       "      <th></th>\n",
       "      <th>Rank</th>\n",
       "      <th>Name</th>\n",
       "      <th>Sport</th>\n",
       "      <th>Country</th>\n",
       "      <th>Total</th>\n",
       "      <th>Salary/winnings</th>\n",
       "      <th>Endorsements</th>\n",
       "    </tr>\n",
       "  </thead>\n",
       "  <tbody>\n",
       "    <tr>\n",
       "      <td>0</td>\n",
       "      <td>1</td>\n",
       "      <td>Cristiano Ronaldo</td>\n",
       "      <td>Association football</td>\n",
       "      <td>Portugal</td>\n",
       "      <td>$136 million</td>\n",
       "      <td>$46 million</td>\n",
       "      <td>$90 million</td>\n",
       "    </tr>\n",
       "    <tr>\n",
       "      <td>1</td>\n",
       "      <td>2</td>\n",
       "      <td>Lionel Messi</td>\n",
       "      <td>Association football</td>\n",
       "      <td>Argentina</td>\n",
       "      <td>$130 million</td>\n",
       "      <td>$65 million</td>\n",
       "      <td>$65 million</td>\n",
       "    </tr>\n",
       "    <tr>\n",
       "      <td>2</td>\n",
       "      <td>3</td>\n",
       "      <td>Kylian Mbappé</td>\n",
       "      <td>Association football</td>\n",
       "      <td>France</td>\n",
       "      <td>$120 million</td>\n",
       "      <td>$100 million</td>\n",
       "      <td>$20 million</td>\n",
       "    </tr>\n",
       "    <tr>\n",
       "      <td>3</td>\n",
       "      <td>4</td>\n",
       "      <td>LeBron James</td>\n",
       "      <td>Basketball</td>\n",
       "      <td>United States</td>\n",
       "      <td>$119.5 million</td>\n",
       "      <td>$44.5 million</td>\n",
       "      <td>$75 million</td>\n",
       "    </tr>\n",
       "    <tr>\n",
       "      <td>4</td>\n",
       "      <td>5</td>\n",
       "      <td>Canelo Álvarez</td>\n",
       "      <td>Boxing</td>\n",
       "      <td>Mexico</td>\n",
       "      <td>$110 million</td>\n",
       "      <td>$100 million</td>\n",
       "      <td>$10 million</td>\n",
       "    </tr>\n",
       "    <tr>\n",
       "      <td>5</td>\n",
       "      <td>6</td>\n",
       "      <td>Dustin Johnson</td>\n",
       "      <td>Golf</td>\n",
       "      <td>United States</td>\n",
       "      <td>$107 million</td>\n",
       "      <td>$102 million</td>\n",
       "      <td>$5 million</td>\n",
       "    </tr>\n",
       "    <tr>\n",
       "      <td>6</td>\n",
       "      <td>7</td>\n",
       "      <td>Phil Mickelson</td>\n",
       "      <td>Golf</td>\n",
       "      <td>United States</td>\n",
       "      <td>$106 million</td>\n",
       "      <td>$104 million</td>\n",
       "      <td>$2 million</td>\n",
       "    </tr>\n",
       "    <tr>\n",
       "      <td>7</td>\n",
       "      <td>8</td>\n",
       "      <td>Stephen Curry</td>\n",
       "      <td>Basketball</td>\n",
       "      <td>United States</td>\n",
       "      <td>$100.4 million</td>\n",
       "      <td>$48.4 million</td>\n",
       "      <td>$52 million</td>\n",
       "    </tr>\n",
       "    <tr>\n",
       "      <td>8</td>\n",
       "      <td>9</td>\n",
       "      <td>Roger Federer</td>\n",
       "      <td>Tennis</td>\n",
       "      <td>Switzerland</td>\n",
       "      <td>$95.1 million</td>\n",
       "      <td>$0.1 million</td>\n",
       "      <td>$95 million</td>\n",
       "    </tr>\n",
       "    <tr>\n",
       "      <td>9</td>\n",
       "      <td>10</td>\n",
       "      <td>Kevin Durant</td>\n",
       "      <td>Basketball</td>\n",
       "      <td>United States</td>\n",
       "      <td>$89.1 million</td>\n",
       "      <td>$44.1 million</td>\n",
       "      <td>$45 million</td>\n",
       "    </tr>\n",
       "  </tbody>\n",
       "</table>\n",
       "</div>"
      ],
      "text/plain": [
       "  Rank               Name                 Sport        Country  \\\n",
       "0    1  Cristiano Ronaldo  Association football       Portugal   \n",
       "1    2       Lionel Messi  Association football      Argentina   \n",
       "2    3      Kylian Mbappé  Association football         France   \n",
       "3    4       LeBron James            Basketball  United States   \n",
       "4    5     Canelo Álvarez                Boxing         Mexico   \n",
       "5    6     Dustin Johnson                  Golf  United States   \n",
       "6    7     Phil Mickelson                  Golf  United States   \n",
       "7    8      Stephen Curry            Basketball  United States   \n",
       "8    9      Roger Federer                Tennis    Switzerland   \n",
       "9   10       Kevin Durant            Basketball  United States   \n",
       "\n",
       "            Total Salary/winnings Endorsements  \n",
       "0    $136 million     $46 million  $90 million  \n",
       "1    $130 million     $65 million  $65 million  \n",
       "2    $120 million    $100 million  $20 million  \n",
       "3  $119.5 million   $44.5 million  $75 million  \n",
       "4    $110 million    $100 million  $10 million  \n",
       "5    $107 million    $102 million   $5 million  \n",
       "6    $106 million    $104 million   $2 million  \n",
       "7  $100.4 million   $48.4 million  $52 million  \n",
       "8   $95.1 million    $0.1 million  $95 million  \n",
       "9   $89.1 million   $44.1 million  $45 million  "
      ]
     },
     "execution_count": 80,
     "metadata": {},
     "output_type": "execute_result"
    }
   ],
   "source": [
    "df=pd.DataFrame(player_info,columns=title_list)\n",
    "    "
   ]
  },
  {
   "cell_type": "code",
   "execution_count": 81,
   "metadata": {},
   "outputs": [],
   "source": [
    "df.to_csv('highest_footballer',index=False)"
   ]
  },
  {
   "cell_type": "code",
   "execution_count": null,
   "metadata": {},
   "outputs": [],
   "source": []
  }
 ],
 "metadata": {
  "kernelspec": {
   "display_name": "Python 3",
   "language": "python",
   "name": "python3"
  },
  "language_info": {
   "codemirror_mode": {
    "name": "ipython",
    "version": 3
   },
   "file_extension": ".py",
   "mimetype": "text/x-python",
   "name": "python",
   "nbconvert_exporter": "python",
   "pygments_lexer": "ipython3",
   "version": "3.7.4"
  }
 },
 "nbformat": 4,
 "nbformat_minor": 2
}
